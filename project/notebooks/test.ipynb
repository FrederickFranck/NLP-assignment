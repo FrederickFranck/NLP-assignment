{
 "cells": [
  {
   "cell_type": "code",
   "execution_count": 6,
   "metadata": {},
   "outputs": [
    {
     "data": {
      "text/plain": [
       "'  \\nBRUSSELS HOOFDSTEDELIJK GEWEST  \\n---  \\n  \\n### _8 JANUARI 2020. - Ministerieel besluit tot vaststelling van de modellen\\nvan formulier bedoeld in artikel 8, § 1 van het besluit van de Brusselse\\nHoofdstedelijke Regering van 19 januari 2017 tot vaststelling van de\\nmodaliteiten van het gunstregime toepasselijk op de successierechten bij\\noverdracht van familiale ondernemingen en familiale vennootschappen _\\n\\n  \\n  \\nDe Minister van de Brusselse Hoofdstedelijke Regering, belast met Financiën en\\nBegroting,  \\nGelet op het Wetboek der Successierechten, artikel 60bis/2, § 1, ingevoegd\\ndoor de ordonnantie van 12 december 2016 houdende het tweede deel van de\\nfiscale hervorming;  \\nGelet op het besluit van de Brusselse Hoofdstedelijke Regering van 19 januari\\n2017 tot vaststelling van de modaliteiten van het gunstregime toepasselijk op\\nde successierechten bij overdracht van familiale ondernemingen en familiale\\nvennootschappen, artikel 8;  \\nGelet op de gelijkekansentest uitgevoerd in toepassing van artikel 2 van de\\nordonnantie van 4 oktober 2018 tot invoering van de gelijkekansentest;  \\nOverwegende dat artikel 8 van bovengenoemd besluit stelt dat de Minister van\\nde Brusselse Hoofdstedelijke Regering, belast met Financiën en Begroting,\\nbevoegd is om het formulier dat bedoeld is om na te gaan of de voorwaarden\\nvoor het behoud van de het fiscale gunstregime, dat werd bekomen in het kader\\nvan de overdracht van een familiale onderneming of een familiale vennootschap,\\nvervuld zijn gebleven tot het einde van de driejarige periode die aanving bij\\nhet overlijden van de decujus, zoals bedoeld in artikel 60bis/2, § 1, van het\\nWetboek der Successierechten;  \\nOverwegende dat dit ministerieel besluit geen reglementaire voorschriften\\nbevat in de zin van artikel 3, § 1, eerste lid, van de gecoördineerde wetten\\nvan de Raad van State van 12 januari 1973, is het niet onderworpen aan het\\nadvies van de Raad van State, afdeling Wetgeving,  \\nBesluit :  \\nArtikel 1. Het formulier dat bedoeld is om na te gaan of de voorwaarden voor\\nhet behoud van de het fiscale gunstregime, dat werd bekomen in het kader van\\nde overdracht van een familiale onderneming, vervuld zijn gebleven tot het\\neinde van de driejarige periode die aanving bij het overlijden van de decujus,\\nzoals bedoeld in artikel 60bis/2, § 1 van het Wetboek der Successierechten, is\\nhernomen in bijlage 1 van dit besluit.  \\nArt. 2. Het formulier dat bedoeld is om na te gaan of de voorwaarden voor het\\nbehoud van het fiscale gunstregime, dat werd bekomen in het kader van het\\noverdracht van een familiale vennootschap, vervuld zijn gebleven tot het einde\\nvan de driejarige periode die aanving bij het overlijden van de decujus, zoals\\nbedoeld in artikel 60bis/2, § 1 van het Wetboek der Successierechten, is\\nhernomen in bijlage 2 bij dit besluit.  \\nArt. 3. Dit besluit heeft uitwerking met ingang van 1 januari 2020.  \\nBrussel, 8 januari 2020.  \\nDe Minister van de Brusselse Hoofdstedelijke Regering, belast met Financiën,\\nBegroting, Openbaar ambt en de Promotie van Meertaligheid,  \\nS. GATZ  \\n  \\nVoor de raadpleging van de tabel, zie beeld  \\n  \\n  \\n'"
      ]
     },
     "execution_count": 6,
     "metadata": {},
     "output_type": "execute_result"
    }
   ],
   "source": [
    "import pandas as pd\n",
    "\n",
    "df = pd.read_excel(\"../data/KPMG Tax Case - Data Set.xlsx\")\n",
    "df_all2 = pd.read_pickle(\"../data/Staatsblad_nl_fr.pkl\")\n",
    "\n",
    "df_all2['cleantextnl'][0]"
   ]
  }
 ],
 "metadata": {
  "interpreter": {
   "hash": "c582d6c6b64ec7bcf079f883c525324cc79c505beb4a4aed4a485907f0f487a6"
  },
  "kernelspec": {
   "display_name": "Python 3.9.12 ('nlp')",
   "language": "python",
   "name": "python3"
  },
  "language_info": {
   "codemirror_mode": {
    "name": "ipython",
    "version": 3
   },
   "file_extension": ".py",
   "mimetype": "text/x-python",
   "name": "python",
   "nbconvert_exporter": "python",
   "pygments_lexer": "ipython3",
   "version": "3.9.12"
  },
  "orig_nbformat": 4
 },
 "nbformat": 4,
 "nbformat_minor": 2
}
